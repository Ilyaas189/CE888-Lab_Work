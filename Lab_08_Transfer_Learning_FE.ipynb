{
  "nbformat": 4,
  "nbformat_minor": 0,
  "metadata": {
    "colab": {
      "name": "Lab_08_Transfer Learning_FE.ipynb",
      "provenance": [],
      "authorship_tag": "ABX9TyPVCs6qUwSXKcsHMwcRerPD",
      "include_colab_link": true
    },
    "kernelspec": {
      "name": "python3",
      "display_name": "Python 3"
    },
    "language_info": {
      "name": "python"
    },
    "accelerator": "GPU"
  },
  "cells": [
    {
      "cell_type": "markdown",
      "metadata": {
        "id": "view-in-github",
        "colab_type": "text"
      },
      "source": [
        "<a href=\"https://colab.research.google.com/github/Ilyaas189/CE888-Lab_Work/blob/main/Lab_08_Transfer_Learning_FE.ipynb\" target=\"_parent\"><img src=\"https://colab.research.google.com/assets/colab-badge.svg\" alt=\"Open In Colab\"/></a>"
      ]
    },
    {
      "cell_type": "code",
      "metadata": {
        "colab": {
          "base_uri": "https://localhost:8080/"
        },
        "id": "NA_HP_ukWbAc",
        "outputId": "238f737f-dba4-4e4d-e92a-e05e452adce1"
      },
      "source": [
        "# Unzip training data\n",
        "from zipfile import ZipFile\n",
        "file_name = \"/content/data.zip\"\n",
        "with ZipFile(file_name, 'r') as zip:\n",
        "  zip.extractall()\n",
        "  print('done')"
      ],
      "execution_count": 1,
      "outputs": [
        {
          "output_type": "stream",
          "text": [
            "done\n"
          ],
          "name": "stdout"
        }
      ]
    },
    {
      "cell_type": "code",
      "metadata": {
        "colab": {
          "base_uri": "https://localhost:8080/"
        },
        "id": "Xc4EF1vKW4Dk",
        "outputId": "24040241-6cb1-48e1-ee3a-915a8db7bf93"
      },
      "source": [
        "# Get all the paths\n",
        "import os\n",
        "data_dir_list = os.listdir('/content/data')\n",
        "#print(data_dir_list)\n",
        "path, dirs, files = next(os.walk(\"/content/data\"))\n",
        "file_count = len(files)\n",
        "print(file_count)"
      ],
      "execution_count": 2,
      "outputs": [
        {
          "output_type": "stream",
          "text": [
            "0\n"
          ],
          "name": "stdout"
        }
      ]
    },
    {
      "cell_type": "code",
      "metadata": {
        "id": "VYPqGHGDW-Hc"
      },
      "source": [
        "# Make new base directory\n",
        "original_dataset_dir = '/content/data'\n",
        "base_dir = '/content/cats_and_dogs_hores_human_small'\n",
        "os.mkdir(base_dir)"
      ],
      "execution_count": 3,
      "outputs": []
    },
    {
      "cell_type": "code",
      "metadata": {
        "id": "74hy5W_bXCId"
      },
      "source": [
        "train_dir = os.path.join(base_dir, 'train')\n",
        "os.mkdir(train_dir)\n",
        "\n",
        "validation_dir = os.path.join(base_dir, 'validation')\n",
        "os.mkdir(validation_dir)\n",
        "\n",
        "test_dir = os.path.join(base_dir, 'test')\n",
        "os.mkdir(test_dir)"
      ],
      "execution_count": 4,
      "outputs": []
    },
    {
      "cell_type": "code",
      "metadata": {
        "colab": {
          "base_uri": "https://localhost:8080/"
        },
        "id": "rpp0csEwXGN5",
        "outputId": "1e71dfcb-c7f1-4590-c78d-c48d8641cdf8"
      },
      "source": [
        "import shutil\n",
        "fnames = ['cat.{}.jpg'.format(i) for i in range(1,100)]\n",
        "for fname in fnames:\n",
        "    src = os.path.join(original_dataset_dir,'cats', fname)\n",
        "    dst = os.path.join(train_dir, fname)\n",
        "    # print(src,dst)\n",
        "    shutil.copyfile(src, dst)\n",
        "    \n",
        "fnames = ['cat.{}.jpg'.format(i) for i in range(100, 150)]\n",
        "for fname in fnames:\n",
        "    src = os.path.join(original_dataset_dir,'cats', fname)\n",
        "    dst = os.path.join(validation_dir, fname)\n",
        "    shutil.copyfile(src, dst)\n",
        "\n",
        "fnames = ['cat.{}.jpg'.format(i) for i in range(150, 202)]\n",
        "for fname in fnames:\n",
        "    src = os.path.join(original_dataset_dir,'cats', fname)\n",
        "    dst = os.path.join(test_dir, fname)\n",
        "    shutil.copyfile(src, dst)\n",
        "    \n",
        "fnames = ['dog.{}.jpg'.format(i) for i in range(1,100)]\n",
        "for fname in fnames:\n",
        "    src = os.path.join(original_dataset_dir,'dogs', fname)\n",
        "    dst = os.path.join(train_dir, fname)\n",
        "    shutil.copyfile(src, dst)\n",
        "#\n",
        "fnames = ['dog.{}.jpg'.format(i) for i in range(100, 150)]\n",
        "for fname in fnames:\n",
        "    src = os.path.join(original_dataset_dir,'dogs', fname)\n",
        "    dst = os.path.join(validation_dir, fname)\n",
        "    shutil.copyfile(src, dst)\n",
        "\n",
        "fnames = ['dog.{}.jpg'.format(i) for i in range(150, 202)]\n",
        "for fname in fnames:\n",
        "    src = os.path.join(original_dataset_dir,'dogs', fname)\n",
        "    dst = os.path.join(test_dir, fname)\n",
        "    shutil.copyfile(src, dst)\n",
        "fnames = ['horse-{}.jpg'.format(i) for i in range(1,100)]\n",
        "for fname in fnames:\n",
        "    src = os.path.join(original_dataset_dir,'horses', fname)\n",
        "    dst = os.path.join(train_dir, fname)\n",
        "    shutil.copyfile(src, dst)\n",
        "\n",
        "fnames = ['horse-{}.jpg'.format(i) for i in range(100, 150)]\n",
        "for fname in fnames:\n",
        "    src = os.path.join(original_dataset_dir,'horses', fname)\n",
        "    dst = os.path.join(validation_dir, fname)\n",
        "    shutil.copyfile(src, dst)\n",
        "\n",
        "fnames = ['horse-{}.jpg'.format(i) for i in range(150, 202)]\n",
        "for fname in fnames:\n",
        "    src = os.path.join(original_dataset_dir,'horses', fname)\n",
        "    dst = os.path.join(test_dir, fname)\n",
        "    shutil.copyfile(src, dst)\n",
        "fnames = ['rider-{}.jpg'.format(i) for i in range(1,100)]\n",
        "for fname in fnames:\n",
        "    src = os.path.join(original_dataset_dir,'Humans', fname)\n",
        "    dst = os.path.join(train_dir, fname)\n",
        "    shutil.copyfile(src, dst)\n",
        "\n",
        "fnames = ['rider-{}.jpg'.format(i) for i in range(100, 150)]\n",
        "for fname in fnames:\n",
        "    src = os.path.join(original_dataset_dir,'Humans', fname)\n",
        "    dst = os.path.join(validation_dir, fname)\n",
        "    shutil.copyfile(src, dst)\n",
        "\n",
        "fnames = ['rider-{}.jpg'.format(i) for i in range(150, 202)]\n",
        "for fname in fnames:\n",
        "    src = os.path.join(original_dataset_dir,'Humans', fname)\n",
        "    dst = os.path.join(test_dir, fname)\n",
        "    shutil.copyfile(src, dst)\n",
        "print('done')"
      ],
      "execution_count": 5,
      "outputs": [
        {
          "output_type": "stream",
          "text": [
            "done\n"
          ],
          "name": "stdout"
        }
      ]
    },
    {
      "cell_type": "code",
      "metadata": {
        "id": "rM3KF55EXLrb"
      },
      "source": [
        "import cv2\n",
        "import numpy as np\n",
        "from random import shuffle\n",
        "\n",
        "IMG_SIZE = 224\n",
        "LR = 1e-4"
      ],
      "execution_count": 6,
      "outputs": []
    },
    {
      "cell_type": "code",
      "metadata": {
        "id": "vyWzEs9UXPJI"
      },
      "source": [
        "def label_img(img):\n",
        "    word_label = img.split('.')[0]\n",
        "    if word_label == 'dog': return 1\n",
        "    elif word_label == 'cat': return 0\n",
        "    else:\n",
        "      word_label = img.split('-')[0]\n",
        "      if word_label == 'horse': return 2\n",
        "      elif word_label == 'rider': return 3"
      ],
      "execution_count": 7,
      "outputs": []
    },
    {
      "cell_type": "code",
      "metadata": {
        "id": "kcFGnWHYXS7j"
      },
      "source": [
        "def createDataSplitSet(datapath):\n",
        "    X=[]\n",
        "    y=[]\n",
        "\n",
        "    for img in os.listdir(datapath):\n",
        "        label = label_img(img)\n",
        "        # print(label)\n",
        "        path = os.path.join(datapath, img)\n",
        "        image = cv2.resize(cv2.imread(path), (IMG_SIZE, IMG_SIZE))\n",
        "        image = cv2.normalize(image, None, alpha=0, beta=1, norm_type=cv2.NORM_MINMAX, dtype=cv2.CV_32F)\n",
        "\n",
        "        X.append(np.array(image))\n",
        "        y.append(label)\n",
        "\n",
        "    return np.array(X), np.array(y)"
      ],
      "execution_count": 8,
      "outputs": []
    },
    {
      "cell_type": "code",
      "metadata": {
        "colab": {
          "base_uri": "https://localhost:8080/"
        },
        "id": "1uATC0QNXZOC",
        "outputId": "9bc42a35-8f82-4261-e081-36c449427aa5"
      },
      "source": [
        "train_X, train_y = createDataSplitSet(train_dir)\n",
        "val_X, val_y = createDataSplitSet(validation_dir)\n",
        "test_X, test_y = createDataSplitSet(test_dir)\n",
        "print(train_X.shape)\n",
        "print(train_y)\n",
        "print(val_X.shape)\n",
        "print(test_X.shape)"
      ],
      "execution_count": 9,
      "outputs": [
        {
          "output_type": "stream",
          "text": [
            "(396, 224, 224, 3)\n",
            "[1 1 2 2 2 3 3 0 2 1 1 2 3 2 3 3 3 2 1 3 1 2 1 3 2 1 2 0 2 1 3 1 0 2 1 0 0\n",
            " 2 2 0 3 3 0 2 0 1 2 3 2 1 3 2 3 0 3 3 3 0 1 3 1 3 1 0 0 0 2 2 0 3 0 1 1 3\n",
            " 3 0 1 1 3 1 2 0 1 1 3 1 3 1 1 2 3 3 1 1 3 2 3 3 1 0 2 1 2 1 1 3 3 1 1 1 2\n",
            " 1 0 3 3 3 0 0 0 2 0 0 3 3 0 2 0 2 2 1 3 2 3 1 1 1 1 1 2 0 3 2 0 0 2 2 2 1\n",
            " 1 2 0 0 2 2 1 0 3 0 3 3 2 3 0 3 3 3 3 1 0 1 0 0 2 2 0 2 3 3 2 1 0 0 0 2 0\n",
            " 1 0 3 1 0 1 3 2 2 3 1 3 2 1 2 2 2 1 1 1 1 2 1 3 1 3 2 0 0 0 3 2 3 1 1 3 1\n",
            " 2 3 2 2 2 0 2 1 3 2 0 2 3 1 3 2 0 2 3 3 3 0 0 2 1 3 2 2 3 0 2 0 1 2 0 0 0\n",
            " 1 1 3 0 0 3 1 2 3 0 3 2 2 1 0 0 0 2 0 0 3 3 3 1 3 0 1 0 1 3 0 3 0 1 1 3 2\n",
            " 0 1 1 3 1 3 2 2 2 3 2 3 3 2 1 1 3 1 0 2 3 2 0 1 0 3 0 0 2 0 2 3 2 3 0 0 2\n",
            " 3 0 1 1 0 0 1 2 0 0 3 3 3 2 1 1 2 3 1 1 2 1 1 3 0 3 3 2 2 0 0 2 0 2 0 0 2\n",
            " 2 1 0 1 0 2 0 1 0 1 3 0 1 2 2 0 2 0 0 0 1 1 1 2 3 0]\n",
            "(200, 224, 224, 3)\n",
            "(208, 224, 224, 3)\n"
          ],
          "name": "stdout"
        }
      ]
    },
    {
      "cell_type": "code",
      "metadata": {
        "id": "_igHv73gXd--"
      },
      "source": [
        "## VGG 16\n",
        "from tensorflow.keras.applications import VGG19\n",
        "from tensorflow.keras.layers import Dense, Input\n",
        "from tensorflow.keras import Model\n",
        "\n",
        "img_input = Input(shape=(IMG_SIZE, IMG_SIZE, 3))"
      ],
      "execution_count": 10,
      "outputs": []
    },
    {
      "cell_type": "code",
      "metadata": {
        "colab": {
          "base_uri": "https://localhost:8080/"
        },
        "id": "NL7Thzv2XiKE",
        "outputId": "36e516b5-076e-4c5d-9e0f-26ddd0578201"
      },
      "source": [
        "model = VGG19(\n",
        "    include_top=True,\n",
        "    weights=\"imagenet\",\n",
        "    input_tensor=img_input,\n",
        "    input_shape=None,\n",
        "    pooling=None,\n",
        "    classes=1000,\n",
        "    classifier_activation=\"softmax\")\n",
        "model.summary()"
      ],
      "execution_count": 11,
      "outputs": [
        {
          "output_type": "stream",
          "text": [
            "Downloading data from https://storage.googleapis.com/tensorflow/keras-applications/vgg19/vgg19_weights_tf_dim_ordering_tf_kernels.h5\n",
            "574717952/574710816 [==============================] - 3s 0us/step\n",
            "Model: \"vgg19\"\n",
            "_________________________________________________________________\n",
            "Layer (type)                 Output Shape              Param #   \n",
            "=================================================================\n",
            "input_1 (InputLayer)         [(None, 224, 224, 3)]     0         \n",
            "_________________________________________________________________\n",
            "block1_conv1 (Conv2D)        (None, 224, 224, 64)      1792      \n",
            "_________________________________________________________________\n",
            "block1_conv2 (Conv2D)        (None, 224, 224, 64)      36928     \n",
            "_________________________________________________________________\n",
            "block1_pool (MaxPooling2D)   (None, 112, 112, 64)      0         \n",
            "_________________________________________________________________\n",
            "block2_conv1 (Conv2D)        (None, 112, 112, 128)     73856     \n",
            "_________________________________________________________________\n",
            "block2_conv2 (Conv2D)        (None, 112, 112, 128)     147584    \n",
            "_________________________________________________________________\n",
            "block2_pool (MaxPooling2D)   (None, 56, 56, 128)       0         \n",
            "_________________________________________________________________\n",
            "block3_conv1 (Conv2D)        (None, 56, 56, 256)       295168    \n",
            "_________________________________________________________________\n",
            "block3_conv2 (Conv2D)        (None, 56, 56, 256)       590080    \n",
            "_________________________________________________________________\n",
            "block3_conv3 (Conv2D)        (None, 56, 56, 256)       590080    \n",
            "_________________________________________________________________\n",
            "block3_conv4 (Conv2D)        (None, 56, 56, 256)       590080    \n",
            "_________________________________________________________________\n",
            "block3_pool (MaxPooling2D)   (None, 28, 28, 256)       0         \n",
            "_________________________________________________________________\n",
            "block4_conv1 (Conv2D)        (None, 28, 28, 512)       1180160   \n",
            "_________________________________________________________________\n",
            "block4_conv2 (Conv2D)        (None, 28, 28, 512)       2359808   \n",
            "_________________________________________________________________\n",
            "block4_conv3 (Conv2D)        (None, 28, 28, 512)       2359808   \n",
            "_________________________________________________________________\n",
            "block4_conv4 (Conv2D)        (None, 28, 28, 512)       2359808   \n",
            "_________________________________________________________________\n",
            "block4_pool (MaxPooling2D)   (None, 14, 14, 512)       0         \n",
            "_________________________________________________________________\n",
            "block5_conv1 (Conv2D)        (None, 14, 14, 512)       2359808   \n",
            "_________________________________________________________________\n",
            "block5_conv2 (Conv2D)        (None, 14, 14, 512)       2359808   \n",
            "_________________________________________________________________\n",
            "block5_conv3 (Conv2D)        (None, 14, 14, 512)       2359808   \n",
            "_________________________________________________________________\n",
            "block5_conv4 (Conv2D)        (None, 14, 14, 512)       2359808   \n",
            "_________________________________________________________________\n",
            "block5_pool (MaxPooling2D)   (None, 7, 7, 512)         0         \n",
            "_________________________________________________________________\n",
            "flatten (Flatten)            (None, 25088)             0         \n",
            "_________________________________________________________________\n",
            "fc1 (Dense)                  (None, 4096)              102764544 \n",
            "_________________________________________________________________\n",
            "fc2 (Dense)                  (None, 4096)              16781312  \n",
            "_________________________________________________________________\n",
            "predictions (Dense)          (None, 1000)              4097000   \n",
            "=================================================================\n",
            "Total params: 143,667,240\n",
            "Trainable params: 143,667,240\n",
            "Non-trainable params: 0\n",
            "_________________________________________________________________\n"
          ],
          "name": "stdout"
        }
      ]
    },
    {
      "cell_type": "code",
      "metadata": {
        "colab": {
          "base_uri": "https://localhost:8080/"
        },
        "id": "Sq65o0scXo3U",
        "outputId": "b69f5b91-7e52-4348-e143-170ce9f2107a"
      },
      "source": [
        "last_layer = model.get_layer('fc2').output\n",
        "out = Dense(4, activation='sigmoid', name='output')(last_layer)  ## 2 classes\n",
        "model = Model(img_input, out)\n",
        "\n",
        "for layer in model.layers[:-1]:\n",
        "\tlayer.trainable = False\n",
        "\n",
        "model.summary()"
      ],
      "execution_count": 12,
      "outputs": [
        {
          "output_type": "stream",
          "text": [
            "Model: \"model\"\n",
            "_________________________________________________________________\n",
            "Layer (type)                 Output Shape              Param #   \n",
            "=================================================================\n",
            "input_1 (InputLayer)         [(None, 224, 224, 3)]     0         \n",
            "_________________________________________________________________\n",
            "block1_conv1 (Conv2D)        (None, 224, 224, 64)      1792      \n",
            "_________________________________________________________________\n",
            "block1_conv2 (Conv2D)        (None, 224, 224, 64)      36928     \n",
            "_________________________________________________________________\n",
            "block1_pool (MaxPooling2D)   (None, 112, 112, 64)      0         \n",
            "_________________________________________________________________\n",
            "block2_conv1 (Conv2D)        (None, 112, 112, 128)     73856     \n",
            "_________________________________________________________________\n",
            "block2_conv2 (Conv2D)        (None, 112, 112, 128)     147584    \n",
            "_________________________________________________________________\n",
            "block2_pool (MaxPooling2D)   (None, 56, 56, 128)       0         \n",
            "_________________________________________________________________\n",
            "block3_conv1 (Conv2D)        (None, 56, 56, 256)       295168    \n",
            "_________________________________________________________________\n",
            "block3_conv2 (Conv2D)        (None, 56, 56, 256)       590080    \n",
            "_________________________________________________________________\n",
            "block3_conv3 (Conv2D)        (None, 56, 56, 256)       590080    \n",
            "_________________________________________________________________\n",
            "block3_conv4 (Conv2D)        (None, 56, 56, 256)       590080    \n",
            "_________________________________________________________________\n",
            "block3_pool (MaxPooling2D)   (None, 28, 28, 256)       0         \n",
            "_________________________________________________________________\n",
            "block4_conv1 (Conv2D)        (None, 28, 28, 512)       1180160   \n",
            "_________________________________________________________________\n",
            "block4_conv2 (Conv2D)        (None, 28, 28, 512)       2359808   \n",
            "_________________________________________________________________\n",
            "block4_conv3 (Conv2D)        (None, 28, 28, 512)       2359808   \n",
            "_________________________________________________________________\n",
            "block4_conv4 (Conv2D)        (None, 28, 28, 512)       2359808   \n",
            "_________________________________________________________________\n",
            "block4_pool (MaxPooling2D)   (None, 14, 14, 512)       0         \n",
            "_________________________________________________________________\n",
            "block5_conv1 (Conv2D)        (None, 14, 14, 512)       2359808   \n",
            "_________________________________________________________________\n",
            "block5_conv2 (Conv2D)        (None, 14, 14, 512)       2359808   \n",
            "_________________________________________________________________\n",
            "block5_conv3 (Conv2D)        (None, 14, 14, 512)       2359808   \n",
            "_________________________________________________________________\n",
            "block5_conv4 (Conv2D)        (None, 14, 14, 512)       2359808   \n",
            "_________________________________________________________________\n",
            "block5_pool (MaxPooling2D)   (None, 7, 7, 512)         0         \n",
            "_________________________________________________________________\n",
            "flatten (Flatten)            (None, 25088)             0         \n",
            "_________________________________________________________________\n",
            "fc1 (Dense)                  (None, 4096)              102764544 \n",
            "_________________________________________________________________\n",
            "fc2 (Dense)                  (None, 4096)              16781312  \n",
            "_________________________________________________________________\n",
            "output (Dense)               (None, 4)                 16388     \n",
            "=================================================================\n",
            "Total params: 139,586,628\n",
            "Trainable params: 16,388\n",
            "Non-trainable params: 139,570,240\n",
            "_________________________________________________________________\n"
          ],
          "name": "stdout"
        }
      ]
    },
    {
      "cell_type": "code",
      "metadata": {
        "id": "OmOeLJmXXuQT"
      },
      "source": [
        "from keras.utils.np_utils import to_categorical\n",
        "target=to_categorical(train_y)\n",
        "val_target=to_categorical(val_y)\n",
        "model.compile(loss='categorical_crossentropy',\n",
        "              optimizer='adam',\n",
        "              metrics=['acc'])"
      ],
      "execution_count": 13,
      "outputs": []
    },
    {
      "cell_type": "code",
      "metadata": {
        "id": "mZHf8IAiXx8l"
      },
      "source": [
        "from tensorflow.keras.callbacks import EarlyStopping, ModelCheckpoint\n",
        "my_callbacks = [\n",
        "    EarlyStopping(monitor=\"val_loss\", patience=10, restore_best_weights=True),\n",
        "    ModelCheckpoint(filepath='vgg19_FE_model.h5', save_best_only=True),\n",
        "]"
      ],
      "execution_count": 14,
      "outputs": []
    },
    {
      "cell_type": "code",
      "metadata": {
        "colab": {
          "base_uri": "https://localhost:8080/"
        },
        "id": "asC8yN_MX1ey",
        "outputId": "cb9ce25b-5651-4823-aedf-f6520c7f31a2"
      },
      "source": [
        "history = model.fit(train_X, target,\n",
        "                               batch_size=10,\n",
        "                               epochs=10, \n",
        "                               validation_data=(val_X, val_target),\n",
        "                               callbacks=my_callbacks)"
      ],
      "execution_count": 15,
      "outputs": [
        {
          "output_type": "stream",
          "text": [
            "Epoch 1/10\n",
            "40/40 [==============================] - 40s 145ms/step - loss: 1.4403 - acc: 0.3838 - val_loss: 0.7939 - val_acc: 0.6850\n",
            "Epoch 2/10\n",
            "40/40 [==============================] - 4s 95ms/step - loss: 0.8271 - acc: 0.6552 - val_loss: 0.5587 - val_acc: 0.8250\n",
            "Epoch 3/10\n",
            "40/40 [==============================] - 4s 96ms/step - loss: 0.5999 - acc: 0.7573 - val_loss: 0.5028 - val_acc: 0.8350\n",
            "Epoch 4/10\n",
            "40/40 [==============================] - 4s 96ms/step - loss: 0.5366 - acc: 0.8069 - val_loss: 0.4718 - val_acc: 0.8300\n",
            "Epoch 5/10\n",
            "40/40 [==============================] - 4s 95ms/step - loss: 0.4768 - acc: 0.8400 - val_loss: 0.7557 - val_acc: 0.6300\n",
            "Epoch 6/10\n",
            "40/40 [==============================] - 4s 96ms/step - loss: 0.6266 - acc: 0.7429 - val_loss: 0.4880 - val_acc: 0.8100\n",
            "Epoch 7/10\n",
            "40/40 [==============================] - 4s 96ms/step - loss: 0.4672 - acc: 0.8243 - val_loss: 0.4185 - val_acc: 0.8350\n",
            "Epoch 8/10\n",
            "40/40 [==============================] - 4s 97ms/step - loss: 0.3446 - acc: 0.8749 - val_loss: 0.3804 - val_acc: 0.8650\n",
            "Epoch 9/10\n",
            "40/40 [==============================] - 4s 97ms/step - loss: 0.3158 - acc: 0.8886 - val_loss: 0.3723 - val_acc: 0.8450\n",
            "Epoch 10/10\n",
            "40/40 [==============================] - 4s 98ms/step - loss: 0.3468 - acc: 0.8931 - val_loss: 0.3526 - val_acc: 0.8650\n"
          ],
          "name": "stdout"
        }
      ]
    },
    {
      "cell_type": "code",
      "metadata": {
        "colab": {
          "base_uri": "https://localhost:8080/",
          "height": 545
        },
        "id": "FvB2G3avX78S",
        "outputId": "6b01a9ff-3ff6-4673-fff3-77e0baf408b6"
      },
      "source": [
        "import matplotlib.pyplot as plt\n",
        "\n",
        "acc = history.history['acc']\n",
        "val_acc = history.history['val_acc']\n",
        "loss = history.history['loss']\n",
        "val_loss = history.history['val_loss']\n",
        "\n",
        "epochs = range(1, len(acc) + 1)\n",
        "\n",
        "plt.plot(epochs, acc, 'bo', label='Training acc')\n",
        "plt.plot(epochs, val_acc, 'b', label='Validation acc')\n",
        "plt.title('Training and validation accuracy')\n",
        "plt.legend()\n",
        "\n",
        "plt.figure()\n",
        "\n",
        "plt.plot(epochs, loss, 'bo', label='Training loss')\n",
        "plt.plot(epochs, val_loss, 'b', label='Validation loss')\n",
        "plt.title('Training and validation loss')\n",
        "plt.legend()\n",
        "\n",
        "plt.show()"
      ],
      "execution_count": 16,
      "outputs": [
        {
          "output_type": "display_data",
          "data": {
            "image/png": "[encoded data removed]",
            "text/plain": [
              "<Figure size 432x288 with 1 Axes>"
            ]
          },
          "metadata": {
            "tags": [],
            "needs_background": "light"
          }
        },
        {
          "output_type": "display_data",
          "data": {
            "image/png": "[encoded data removed]",
            "text/plain": [
              "<Figure size 432x288 with 1 Axes>"
            ]
          },
          "metadata": {
            "tags": [],
            "needs_background": "light"
          }
        }
      ]
    },
    {
      "cell_type": "code",
      "metadata": {
        "colab": {
          "base_uri": "https://localhost:8080/"
        },
        "id": "meUgHlcyZw5N",
        "outputId": "c7345d6f-7127-4e47-d0e5-e676641fff69"
      },
      "source": [
        "from sklearn.metrics import accuracy_score\n",
        "test_target=to_categorical(test_y)\n",
        "## Test Accuracy\n",
        "predictions = model.predict(test_X)\n",
        "ypred = predictions > 0.5\n",
        "test_acc = accuracy_score(test_target, ypred)\n",
        "\n",
        "from sklearn.metrics import precision_recall_fscore_support, roc_auc_score\n",
        "\n",
        "precision, recall, f1score, _ = precision_recall_fscore_support(test_target, ypred, average='weighted')\n",
        "\n",
        "auc = roc_auc_score(test_target, ypred)\n",
        "\n",
        "print(\"Train Accuracy:\\t\", acc[-1])\n",
        "print(\"Val Accuracy:\\t\", val_acc[-1])\n",
        "print(\"Test Accuracy:\\t\", test_acc)\n",
        "print(\"Precision:\\t\", precision)\n",
        "print(\"Recall:\\t\\t\", recall)\n",
        "print(\"F1 Score:\\t\", f1score)\n",
        "print(\"AUC:\\t\\t\", auc)"
      ],
      "execution_count": 17,
      "outputs": [
        {
          "output_type": "stream",
          "text": [
            "Train Accuracy:\t 0.8939393758773804\n",
            "Val Accuracy:\t 0.8650000095367432\n",
            "Test Accuracy:\t 0.3701923076923077\n",
            "Precision:\t 0.5998639429272908\n",
            "Recall:\t\t 0.9807692307692307\n",
            "F1 Score:\t 0.7390863868247178\n",
            "AUC:\t\t 0.8725961538461537\n"
          ],
          "name": "stdout"
        }
      ]
    }
  ]
}