{
  "nbformat": 4,
  "nbformat_minor": 0,
  "metadata": {
    "colab": {
      "name": "Lab_08_FT.ipynb",
      "private_outputs": true,
      "provenance": [],
      "collapsed_sections": [],
      "authorship_tag": "ABX9TyOV21GpnmHp863whBrc+8Bk",
      "include_colab_link": true
    },
    "kernelspec": {
      "name": "python3",
      "display_name": "Python 3"
    },
    "language_info": {
      "name": "python"
    },
    "accelerator": "GPU"
  },
  "cells": [
    {
      "cell_type": "markdown",
      "metadata": {
        "id": "view-in-github",
        "colab_type": "text"
      },
      "source": [
        "<a href=\"https://colab.research.google.com/github/Ilyaas189/CE888-Lab_Work/blob/main/Lab_08_FT.ipynb\" target=\"_parent\"><img src=\"https://colab.research.google.com/assets/colab-badge.svg\" alt=\"Open In Colab\"/></a>"
      ]
    },
    {
      "cell_type": "code",
      "metadata": {
        "id": "JgH4FxiP_36z"
      },
      "source": [
        "!pip install -q kaggle"
      ],
      "execution_count": null,
      "outputs": []
    },
    {
      "cell_type": "code",
      "metadata": {
        "id": "jXASEY0PAUzA"
      },
      "source": [
        "pip install --upgrade kaggle"
      ],
      "execution_count": null,
      "outputs": []
    },
    {
      "cell_type": "code",
      "metadata": {
        "id": "fpYYRFA6-lz5"
      },
      "source": [
        "#import os\n",
        "#os.environ['KAGGLE_USERNAME'] = \"ilyas189\" # username from the json file\n",
        "#os.environ['KAGGLE_KEY'] = \"e9a5f91ca5c7a9eb3b160650cdc095d3\" # key from the json file\n",
        "#!kaggle datasets download 'catsdogshorses-and-humans' # api copied from kaggle (https://www.kaggle.com/c/dogs-vs-cats/data)"
      ],
      "execution_count": null,
      "outputs": []
    },
    {
      "cell_type": "markdown",
      "metadata": {
        "id": "6hHkfHzwKUsg"
      },
      "source": [
        "**Uploading the data (Zip file)**"
      ]
    },
    {
      "cell_type": "code",
      "metadata": {
        "id": "7JKE4dgdI7XT"
      },
      "source": [
        "import os\n",
        "from zipfile import ZipFile\n",
        "file_name = \"/content/data.zip\"\n",
        "with ZipFile(file_name, 'r') as zip:\n",
        "  zip.extractall()\n",
        "  print('done')\n",
        "\n",
        "\n",
        "\n",
        "# # Get all the paths\n",
        "# data_dir_list = os.listdir('/content/data.zip')\n",
        "# #print(data_dir_list)\n",
        "# path, dirs, files = next(os.walk(\"/content/data.zip\"))\n",
        "# file_count = len(files)\n",
        "# print(file_count)"
      ],
      "execution_count": null,
      "outputs": []
    },
    {
      "cell_type": "markdown",
      "metadata": {
        "id": "WwkBjdZ7Kadg"
      },
      "source": [
        "**MAking the New Base Directory**"
      ]
    },
    {
      "cell_type": "code",
      "metadata": {
        "id": "foIWzC3rJACr"
      },
      "source": [
        "# Make new base directory\n",
        "original_dataset_dir = '/content/data'\n",
        "base_dir = '/content/cats_and_dogs_horse_humans_Final'\n",
        "os.mkdir(base_dir)\n",
        "\n",
        "train_dir = os.path.join(base_dir, 'train')\n",
        "os.mkdir(train_dir)\n",
        "\n",
        "validation_dir = os.path.join(base_dir, 'validation')\n",
        "os.mkdir(validation_dir)\n",
        "\n",
        "test_dir = os.path.join(base_dir, 'test')\n",
        "os.mkdir(test_dir)"
      ],
      "execution_count": null,
      "outputs": []
    },
    {
      "cell_type": "markdown",
      "metadata": {
        "id": "BzFpxuJIKe6W"
      },
      "source": [
        "**Randomly splitting the data for Test, Train and VAlidation**"
      ]
    },
    {
      "cell_type": "code",
      "metadata": {
        "id": "Jayu0DTIJNc2"
      },
      "source": [
        "import shutil\n",
        "fnames = ['cat.{}.jpg'.format(i) for i in range(1,100)]\n",
        "for fname in fnames:\n",
        "    src = os.path.join(original_dataset_dir,'cats', fname)\n",
        "    dst = os.path.join(train_dir, fname)\n",
        "    # print(src,dst)\n",
        "    shutil.copyfile(src, dst)\n",
        "    \n",
        "fnames = ['cat.{}.jpg'.format(i) for i in range(100, 150)]\n",
        "for fname in fnames:\n",
        "    src = os.path.join(original_dataset_dir,'cats', fname)\n",
        "    dst = os.path.join(validation_dir, fname)\n",
        "    shutil.copyfile(src, dst)\n",
        "\n",
        "fnames = ['cat.{}.jpg'.format(i) for i in range(150, 202)]\n",
        "for fname in fnames:\n",
        "    src = os.path.join(original_dataset_dir,'cats', fname)\n",
        "    dst = os.path.join(test_dir, fname)\n",
        "    shutil.copyfile(src, dst)\n",
        "    \n",
        "fnames = ['dog.{}.jpg'.format(i) for i in range(1,100)]\n",
        "for fname in fnames:\n",
        "    src = os.path.join(original_dataset_dir,'dogs', fname)\n",
        "    dst = os.path.join(train_dir, fname)\n",
        "    shutil.copyfile(src, dst)\n",
        "#\n",
        "fnames = ['dog.{}.jpg'.format(i) for i in range(100, 150)]\n",
        "for fname in fnames:\n",
        "    src = os.path.join(original_dataset_dir,'dogs', fname)\n",
        "    dst = os.path.join(validation_dir, fname)\n",
        "    shutil.copyfile(src, dst)\n",
        "\n",
        "fnames = ['dog.{}.jpg'.format(i) for i in range(150, 202)]\n",
        "for fname in fnames:\n",
        "    src = os.path.join(original_dataset_dir,'dogs', fname)\n",
        "    dst = os.path.join(test_dir, fname)\n",
        "    shutil.copyfile(src, dst)\n",
        "fnames = ['horse-{}.jpg'.format(i) for i in range(1,100)]\n",
        "for fname in fnames:\n",
        "    src = os.path.join(original_dataset_dir,'horses', fname)\n",
        "    dst = os.path.join(train_dir, fname)\n",
        "    shutil.copyfile(src, dst)\n",
        "\n",
        "fnames = ['horse-{}.jpg'.format(i) for i in range(100, 150)]\n",
        "for fname in fnames:\n",
        "    src = os.path.join(original_dataset_dir,'horses', fname)\n",
        "    dst = os.path.join(validation_dir, fname)\n",
        "    shutil.copyfile(src, dst)\n",
        "\n",
        "fnames = ['horse-{}.jpg'.format(i) for i in range(150, 202)]\n",
        "for fname in fnames:\n",
        "    src = os.path.join(original_dataset_dir,'horses', fname)\n",
        "    dst = os.path.join(test_dir, fname)\n",
        "    shutil.copyfile(src, dst)\n",
        "fnames = ['rider-{}.jpg'.format(i) for i in range(1,100)]\n",
        "for fname in fnames:\n",
        "    src = os.path.join(original_dataset_dir,'Humans', fname)\n",
        "    dst = os.path.join(train_dir, fname)\n",
        "    shutil.copyfile(src, dst)\n",
        "\n",
        "fnames = ['rider-{}.jpg'.format(i) for i in range(100, 150)]\n",
        "for fname in fnames:\n",
        "    src = os.path.join(original_dataset_dir,'Humans', fname)\n",
        "    dst = os.path.join(validation_dir, fname)\n",
        "    shutil.copyfile(src, dst)\n",
        "\n",
        "fnames = ['rider-{}.jpg'.format(i) for i in range(150, 202)]\n",
        "for fname in fnames:\n",
        "    src = os.path.join(original_dataset_dir,'Humans', fname)\n",
        "    dst = os.path.join(test_dir, fname)\n",
        "    shutil.copyfile(src, dst)\n",
        "print('done')"
      ],
      "execution_count": null,
      "outputs": []
    },
    {
      "cell_type": "markdown",
      "metadata": {
        "id": "T2ykYi3rKr1A"
      },
      "source": [
        "** and learning rate**"
      ]
    },
    {
      "cell_type": "code",
      "metadata": {
        "id": "Z8KIep75JXnA"
      },
      "source": [
        "import numpy as np\n",
        "from random import shuffle\n",
        "\n",
        "IMG_SIZE = 224\n",
        "LR = 1e-4"
      ],
      "execution_count": null,
      "outputs": []
    },
    {
      "cell_type": "markdown",
      "metadata": {
        "id": "h8-DA8mIK5vw"
      },
      "source": [
        "**To return Image Labelling**"
      ]
    },
    {
      "cell_type": "markdown",
      "metadata": {
        "id": "WAevmdP2KxNw"
      },
      "source": [
        ""
      ]
    },
    {
      "cell_type": "code",
      "metadata": {
        "id": "JiO18lbdJZLj"
      },
      "source": [
        "def label_img(img):\n",
        "    word_label = img.split('.')[0]\n",
        "    if word_label == 'dog': return 1\n",
        "    elif word_label == 'cat': return 0\n",
        "    else:\n",
        "      word_label = img.split('-')[0]\n",
        "      if word_label == 'horse': return 2\n",
        "      elif word_label == 'rider': return 3"
      ],
      "execution_count": null,
      "outputs": []
    },
    {
      "cell_type": "markdown",
      "metadata": {
        "id": "0z0FFXCXLHEb"
      },
      "source": [
        "Splitting the data"
      ]
    },
    {
      "cell_type": "code",
      "metadata": {
        "id": "kz8aRN7AJcYH"
      },
      "source": [
        "import cv2\n",
        "def createDataSplitSet(datapath):\n",
        "    X=[]\n",
        "    y=[]\n",
        "    for img in os.listdir(datapath):\n",
        "        label = label_img(img)\n",
        "        # print(label)\n",
        "        path = os.path.join(datapath, img)\n",
        "        image = cv2.resize(cv2.imread(path), (IMG_SIZE, IMG_SIZE))\n",
        "        image = cv2.normalize(image, None, alpha=0, beta=1, norm_type=cv2.NORM_MINMAX, dtype=cv2.CV_32F)\n",
        "\n",
        "        X.append(np.array(image))\n",
        "        y.append(label)\n",
        "    return np.array(X), np.array(y)"
      ],
      "execution_count": null,
      "outputs": []
    },
    {
      "cell_type": "markdown",
      "metadata": {
        "id": "RvctEt5ULLRa"
      },
      "source": [
        "**Employing the function of data splitting**"
      ]
    },
    {
      "cell_type": "code",
      "metadata": {
        "id": "uH6T3zU-Jjds"
      },
      "source": [
        "train_X, train_y = createDataSplitSet(train_dir)\n",
        "val_X, val_y = createDataSplitSet(validation_dir)\n",
        "test_X, test_y = createDataSplitSet(test_dir)\n",
        "print(train_X.shape)\n",
        "print(train_y)\n",
        "\n",
        "print(val_X.shape)\n",
        "print(test_X.shape)"
      ],
      "execution_count": null,
      "outputs": []
    },
    {
      "cell_type": "markdown",
      "metadata": {
        "id": "grM_Zl3WLS2E"
      },
      "source": [
        "**Importing the VGG19 Model**"
      ]
    },
    {
      "cell_type": "code",
      "metadata": {
        "id": "uaQoyWOhJwxo"
      },
      "source": [
        "## VGG 19\n",
        "\n",
        "from tensorflow.keras.applications import VGG19\n",
        "# from tensorflow.keras.applications import yolo\n",
        "from tensorflow.keras.layers import Dense, Input, Flatten\n",
        "from tensorflow.keras import Model\n",
        "\n",
        "\n",
        "img_input = Input(shape=(IMG_SIZE, IMG_SIZE, 3))"
      ],
      "execution_count": null,
      "outputs": []
    },
    {
      "cell_type": "markdown",
      "metadata": {
        "id": "OIfECUf0LePe"
      },
      "source": [
        "**Initializing the VGG19 model**"
      ]
    },
    {
      "cell_type": "code",
      "metadata": {
        "id": "IYtthPGPJ1bp"
      },
      "source": [
        "model = VGG19(\n",
        "    include_top=True,\n",
        "    weights=\"imagenet\",\n",
        "    input_tensor=img_input,\n",
        "    input_shape=None,\n",
        "    pooling=None,\n",
        "    classes=1000,\n",
        "    classifier_activation=\"softmax\",\n",
        ")\n",
        "\n",
        "\n",
        "model.summary()"
      ],
      "execution_count": null,
      "outputs": []
    },
    {
      "cell_type": "markdown",
      "metadata": {
        "id": "C0rVvcYcLkwX"
      },
      "source": [
        "**Fine Tuning the Model **"
      ]
    },
    {
      "cell_type": "code",
      "metadata": {
        "id": "7e853cmDJ8So"
      },
      "source": [
        "last_layer = model.get_layer('block5_pool').output\n",
        "x= Flatten(name='flatten')(last_layer)\n",
        "x = Dense(128, activation='relu', name='fc1')(x)\n",
        "x = Dense(64, activation='relu', name='fc2')(x)\n",
        "out = Dense(4, activation='sigmoid', name='output')(x)  ## 4 classes\n",
        "model = Model(img_input, out)\n",
        "\n",
        "for layer in model.layers[:-3]:\n",
        "\tlayer.trainable = False\n",
        "\n",
        "model.summary()"
      ],
      "execution_count": null,
      "outputs": []
    },
    {
      "cell_type": "markdown",
      "metadata": {
        "id": "u-u7hsj-LrAW"
      },
      "source": [
        "**Set Loss Function and Optimizer**"
      ]
    },
    {
      "cell_type": "code",
      "metadata": {
        "id": "92TMJMe9KBs-"
      },
      "source": [
        "from keras.utils.np_utils import to_categorical\n",
        "target=to_categorical(train_y)\n",
        "val_target=to_categorical(val_y)\n",
        "model.compile(loss='categorical_crossentropy',\n",
        "              optimizer='adam',\n",
        "              metrics=['acc'])"
      ],
      "execution_count": null,
      "outputs": []
    },
    {
      "cell_type": "code",
      "metadata": {
        "id": "bZHVb5PhKJS-"
      },
      "source": [
        "from tensorflow.keras.callbacks import EarlyStopping, ModelCheckpoint\n",
        "my_callbacks = [\n",
        "    EarlyStopping(monitor=\"val_loss\", patience=5, restore_best_weights=True),\n",
        "    ModelCheckpoint(filepath='vgg19_model.h5', save_best_only=True)\n",
        "]"
      ],
      "execution_count": null,
      "outputs": []
    },
    {
      "cell_type": "markdown",
      "metadata": {
        "id": "fyQe9xV5L6kY"
      },
      "source": [
        "**Training the Model**"
      ]
    },
    {
      "cell_type": "code",
      "metadata": {
        "id": "lwB0Bzu2KLGB"
      },
      "source": [
        "history = model.fit(train_X,target,\n",
        "                              batch_size=20,\n",
        "                              epochs=20, \n",
        "                              validation_data=(val_X, val_target),\n",
        "                              callbacks=my_callbacks)"
      ],
      "execution_count": null,
      "outputs": []
    },
    {
      "cell_type": "code",
      "metadata": {
        "id": "NiQUMBZLMyB2"
      },
      "source": [
        "import matplotlib.pyplot as plt\n",
        "\n",
        "acc = history.history['acc']\n",
        "val_acc = history.history['val_acc']\n",
        "loss = history.history['loss']\n",
        "val_loss = history.history['val_loss']\n",
        "\n",
        "epochs = range(1, len(acc) + 1)\n",
        "\n",
        "plt.plot(epochs, acc, 'bo', label='Training acc')\n",
        "plt.plot(epochs, val_acc, 'b', label='Validation acc')\n",
        "plt.title('Training and validation accuracy')\n",
        "plt.legend()\n",
        "\n",
        "plt.figure()\n",
        "\n",
        "plt.plot(epochs, loss, 'bo', label='Training loss')\n",
        "plt.plot(epochs, val_loss, 'b', label='Validation loss')\n",
        "plt.title('Training and validation loss')\n",
        "plt.legend()\n",
        "\n",
        "plt.show()"
      ],
      "execution_count": null,
      "outputs": []
    },
    {
      "cell_type": "code",
      "metadata": {
        "id": "OU85_GvNM1-I"
      },
      "source": [
        "from sklearn.metrics import accuracy_score\n",
        "test_target=to_categorical(test_y)\n",
        "## Test Accuracy\n",
        "predictions = model.predict(test_X)\n",
        "ypred = predictions > 0.5\n",
        "test_acc = accuracy_score(test_target, ypred)\n",
        "print('done')\n",
        "\n",
        "from sklearn.metrics import precision_recall_fscore_support, roc_auc_score\n",
        "\n",
        "precision, recall, f1score, _ = precision_recall_fscore_support(test_target, ypred, average='weighted')\n",
        "\n",
        "auc = roc_auc_score(test_target, ypred)\n",
        "\n",
        "print(\"Train Accuracy:\\t\", acc[-1])\n",
        "print(\"Val Accuracy:\\t\", val_acc[-1])\n",
        "print(\"Test Accuracy:\\t\", test_acc)\n",
        "print(\"Precision:\\t\", precision)\n",
        "print(\"Recall:\\t\\t\", recall)\n",
        "print(\"F1 Score:\\t\", f1score)\n",
        "print(\"AUC:\\t\\t\", auc)"
      ],
      "execution_count": null,
      "outputs": []
    },
    {
      "cell_type": "code",
      "metadata": {
        "id": "7JtTQhB_M21X"
      },
      "source": [
        ""
      ],
      "execution_count": null,
      "outputs": []
    }
  ]
}